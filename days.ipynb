{
 "cells": [
  {
   "cell_type": "code",
   "execution_count": 3,
   "id": "64574009",
   "metadata": {},
   "outputs": [
    {
     "name": "stdout",
     "output_type": "stream",
     "text": [
      "0       Monday\n",
      "1      Tuesday\n",
      "2    Wednesday\n",
      "dtype: object\n"
     ]
    }
   ],
   "source": [
    "import numpy as np\n",
    "import pandas as pd\n",
    "days = pd.Series([\"Monday\", \"Tuesday\", \"Wednesday\"])\n",
    "print (days)"
   ]
  },
  {
   "cell_type": "code",
   "execution_count": 5,
   "id": "9b4b4cae",
   "metadata": {},
   "outputs": [
    {
     "name": "stdout",
     "output_type": "stream",
     "text": [
      "0       Monday\n",
      "1      Tuesday\n",
      "2    Wednesday\n",
      "dtype: object\n"
     ]
    }
   ],
   "source": [
    "days_list = np.array([\"Monday\", \"Tuesday\", \"Wednesday\"])\n",
    "numpy_days = pd.Series(days_list)\n",
    "print(numpy_days)"
   ]
  },
  {
   "cell_type": "code",
   "execution_count": 4,
   "id": "3085f779",
   "metadata": {},
   "outputs": [
    {
     "name": "stdout",
     "output_type": "stream",
     "text": [
      "a       Monday\n",
      "b      Tuesday\n",
      "c    Wednesday\n",
      "dtype: object\n"
     ]
    }
   ],
   "source": [
    "days = pd.Series([\"Monday\", \"Tuesday\", \"Wednesday\"], index = [\"a\", \"b\", \"c\"])\n",
    "print (days)"
   ]
  },
  {
   "cell_type": "code",
   "execution_count": 6,
   "id": "2b28b412",
   "metadata": {},
   "outputs": [
    {
     "name": "stdout",
     "output_type": "stream",
     "text": [
      "a       Monday\n",
      "b      Tuesday\n",
      "c    Wednesday\n",
      "dtype: object\n"
     ]
    }
   ],
   "source": [
    "days = pd.Series({\"a\": \"Monday\", \"b\" : \"Tuesday\", \"c\" : \"Wednesday\"})\n",
    "print (days)"
   ]
  },
  {
   "cell_type": "code",
   "execution_count": 7,
   "id": "4de6e6e5",
   "metadata": {},
   "outputs": [
    {
     "name": "stdout",
     "output_type": "stream",
     "text": [
      "Monday\n"
     ]
    }
   ],
   "source": [
    "print (days[0])"
   ]
  },
  {
   "cell_type": "code",
   "execution_count": 8,
   "id": "a4c738b3",
   "metadata": {},
   "outputs": [
    {
     "name": "stdout",
     "output_type": "stream",
     "text": [
      "b      Tuesday\n",
      "c    Wednesday\n",
      "dtype: object\n"
     ]
    }
   ],
   "source": [
    "print (days[1 :])"
   ]
  },
  {
   "cell_type": "code",
   "execution_count": 9,
   "id": "a937834d",
   "metadata": {},
   "outputs": [
    {
     "name": "stdout",
     "output_type": "stream",
     "text": [
      "Wednesday\n"
     ]
    }
   ],
   "source": [
    "print (days[\"c\"])"
   ]
  },
  {
   "cell_type": "code",
   "execution_count": 10,
   "id": "cb8288ed",
   "metadata": {},
   "outputs": [
    {
     "name": "stdout",
     "output_type": "stream",
     "text": [
      "Empty DataFrame\n",
      "Columns: []\n",
      "Index: []\n"
     ]
    }
   ],
   "source": [
    "print (pd.DataFrame())"
   ]
  },
  {
   "cell_type": "code",
   "execution_count": 14,
   "id": "ebdb1202",
   "metadata": {},
   "outputs": [
    {
     "name": "stdout",
     "output_type": "stream",
     "text": [
      "   Country  Capital  Population  Age\n",
      "2    Ghana    Accra       10000   60\n",
      "4    Kenya  Nairobi        8500   70\n",
      "6  Nigeria    Abuja       35000   80\n",
      "8     Togo     Lome        2000   75\n"
     ]
    }
   ],
   "source": [
    "df_dict = {\"Country\" : [\"Ghana\", \"Kenya\", \"Nigeria\", \"Togo\"], \"Capital\" : [\"Accra\", \"Nairobi\", \"Abuja\", \"Lome\"], \n",
    "          \"Population\" : [10000, 8500, 35000, 2000], \"Age\" : [60, 70, 80, 75]}\n",
    "df = pd.DataFrame(df_dict, index = [2, 4, 6, 8])\n",
    "print (df)"
   ]
  },
  {
   "cell_type": "code",
   "execution_count": 16,
   "id": "7badd206",
   "metadata": {},
   "outputs": [
    {
     "name": "stdout",
     "output_type": "stream",
     "text": [
      "   Country  Capital  Population  Age\n",
      "2    Ghana    Accra       10000   60\n",
      "4    Kenya  Nairobi       85000   70\n",
      "6  Nigeria    Abuja       35000   80\n",
      "8     Togo     Lome        2000   75\n"
     ]
    }
   ],
   "source": [
    "df_list = [[\"Ghana\", \"Accra\", 10000, 60], [\"Kenya\", \"Nairobi\", 85000, 70], [\"Nigeria\", \"Abuja\", 35000, 80],\n",
    "           [\"Togo\", \"Lome\", 2000, 75]]\n",
    "df_1 = pd.DataFrame(df_list, columns = [\"Country\", \"Capital\", \"Population\", \"Age\"], index = [2, 4, 6, 8])\n",
    "print (df_1)"
   ]
  },
  {
   "cell_type": "code",
   "execution_count": 17,
   "id": "2ece1db5",
   "metadata": {},
   "outputs": [
    {
     "name": "stdout",
     "output_type": "stream",
     "text": [
      "Country       Togo\n",
      "Capital       Lome\n",
      "Population    2000\n",
      "Age             75\n",
      "Name: 8, dtype: object\n"
     ]
    }
   ],
   "source": [
    "print (df.iloc[3])"
   ]
  },
  {
   "cell_type": "code",
   "execution_count": 18,
   "id": "e2fa28ff",
   "metadata": {},
   "outputs": [
    {
     "name": "stdout",
     "output_type": "stream",
     "text": [
      "Country       Nigeria\n",
      "Capital         Abuja\n",
      "Population      35000\n",
      "Age                80\n",
      "Name: 6, dtype: object\n"
     ]
    }
   ],
   "source": [
    "print(df.loc[6])"
   ]
  },
  {
   "cell_type": "code",
   "execution_count": 19,
   "id": "3481a221",
   "metadata": {},
   "outputs": [
    {
     "name": "stdout",
     "output_type": "stream",
     "text": [
      "2      Accra\n",
      "4    Nairobi\n",
      "6      Abuja\n",
      "8       Lome\n",
      "Name: Capital, dtype: object\n"
     ]
    }
   ],
   "source": [
    "print(df[\"Capital\"])"
   ]
  },
  {
   "cell_type": "code",
   "execution_count": 20,
   "id": "ef305790",
   "metadata": {},
   "outputs": [
    {
     "name": "stdout",
     "output_type": "stream",
     "text": [
      "Nigeria\n"
     ]
    }
   ],
   "source": [
    "print(df.at[6, \"Country\"])"
   ]
  },
  {
   "cell_type": "code",
   "execution_count": 21,
   "id": "879b7ba4",
   "metadata": {},
   "outputs": [
    {
     "name": "stdout",
     "output_type": "stream",
     "text": [
      "Nigeria\n"
     ]
    }
   ],
   "source": [
    "print(df.iat[2, 0])"
   ]
  },
  {
   "cell_type": "code",
   "execution_count": 22,
   "id": "6e02affa",
   "metadata": {},
   "outputs": [
    {
     "name": "stdout",
     "output_type": "stream",
     "text": [
      "55500\n"
     ]
    }
   ],
   "source": [
    "print(df[\"Population\"].sum())"
   ]
  },
  {
   "cell_type": "code",
   "execution_count": 23,
   "id": "350e5506",
   "metadata": {},
   "outputs": [
    {
     "name": "stdout",
     "output_type": "stream",
     "text": [
      "Population    13875.00\n",
      "Age              71.25\n",
      "dtype: float64\n"
     ]
    }
   ],
   "source": [
    "print(df.mean())"
   ]
  },
  {
   "cell_type": "code",
   "execution_count": 24,
   "id": "2a66c8c1",
   "metadata": {},
   "outputs": [
    {
     "name": "stdout",
     "output_type": "stream",
     "text": [
      "         Population        Age\n",
      "count      4.000000   4.000000\n",
      "mean   13875.000000  71.250000\n",
      "std    14505.027864   8.539126\n",
      "min     2000.000000  60.000000\n",
      "25%     6875.000000  67.500000\n",
      "50%     9250.000000  72.500000\n",
      "75%    16250.000000  76.250000\n",
      "max    35000.000000  80.000000\n"
     ]
    }
   ],
   "source": [
    "print(df.describe())"
   ]
  },
  {
   "cell_type": "code",
   "execution_count": 26,
   "id": "6713b4d7",
   "metadata": {},
   "outputs": [
    {
     "name": "stdout",
     "output_type": "stream",
     "text": [
      "    Name  Profession  Experience  Height\n",
      "0  James  Researcher        12.0     NaN\n",
      "1  Yemen      Artist         NaN   175.0\n",
      "2   Caro      Doctor        10.0   180.0\n",
      "3    NaN      Writer         8.0   150.0\n"
     ]
    }
   ],
   "source": [
    "df_dict2 = {\"Name\" : [\"James\", \"Yemen\", \"Caro\", np.nan], \"Profession\" : [\"Researcher\", \"Artist\", \"Doctor\", \"Writer\"],\n",
    "           \"Experience\" : [12, np.nan, 10, 8], \"Height\" : [np.nan, 175, 180, 150]}\n",
    "new_df = pd.DataFrame(df_dict2)\n",
    "print (new_df)"
   ]
  },
  {
   "cell_type": "code",
   "execution_count": 27,
   "id": "a9028134",
   "metadata": {},
   "outputs": [
    {
     "name": "stdout",
     "output_type": "stream",
     "text": [
      "    Name  Profession  Experience  Height\n",
      "0  False       False       False    True\n",
      "1  False       False        True   False\n",
      "2  False       False       False   False\n",
      "3   True       False       False   False\n"
     ]
    }
   ],
   "source": [
    "print(new_df.isnull())"
   ]
  },
  {
   "cell_type": "code",
   "execution_count": 29,
   "id": "b1ce32c6",
   "metadata": {},
   "outputs": [
    {
     "name": "stdout",
     "output_type": "stream",
     "text": [
      "   Name Profession  Experience  Height\n",
      "2  Caro     Doctor        10.0   180.0\n"
     ]
    }
   ],
   "source": [
    "print(new_df.dropna())"
   ]
  },
  {
   "cell_type": "code",
   "execution_count": null,
   "id": "5cd3ae82",
   "metadata": {},
   "outputs": [],
   "source": []
  }
 ],
 "metadata": {
  "kernelspec": {
   "display_name": "Python 3",
   "language": "python",
   "name": "python3"
  },
  "language_info": {
   "codemirror_mode": {
    "name": "ipython",
    "version": 3
   },
   "file_extension": ".py",
   "mimetype": "text/x-python",
   "name": "python",
   "nbconvert_exporter": "python",
   "pygments_lexer": "ipython3",
   "version": "3.8.8"
  }
 },
 "nbformat": 4,
 "nbformat_minor": 5
}
